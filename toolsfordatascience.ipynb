{
  "metadata": {
    "language_info": {
      "codemirror_mode": {
        "name": "python",
        "version": 3
      },
      "file_extension": ".py",
      "mimetype": "text/x-python",
      "name": "python",
      "nbconvert_exporter": "python",
      "pygments_lexer": "ipython3",
      "version": "3.8"
    },
    "kernelspec": {
      "name": "python",
      "display_name": "Python (Pyodide)",
      "language": "python"
    }
  },
  "nbformat_minor": 4,
  "nbformat": 4,
  "cells": [
    {
      "cell_type": "markdown",
      "source": "# My Jupyter Notebook on IBM Watson Studio",
      "metadata": {}
    },
    {
      "cell_type": "markdown",
      "source": "**Natalia Kappes**\nBiomedical Engineer",
      "metadata": {}
    },
    {
      "cell_type": "markdown",
      "source": "*I am interested in data science because I find it incredible how companies and organizations can grow from data analysis, whether it is to predict opportunities or solve problems.*",
      "metadata": {}
    },
    {
      "cell_type": "markdown",
      "source": "### Prints the result of the sum 1 + 1",
      "metadata": {}
    },
    {
      "cell_type": "code",
      "source": "a = 1 + 1\nprint (a)",
      "metadata": {
        "trusted": true
      },
      "execution_count": 1,
      "outputs": [
        {
          "name": "stdout",
          "text": "2\n",
          "output_type": "stream"
        }
      ]
    },
    {
      "cell_type": "markdown",
      "source": "~~1 + 1 = 3~~\nThe above sum is wrong.\nThe correct sum is 1 + 1 = 2.\n\n***\n\nIn this cell i made:\n* Strikethrough.\n* Bulleted list\n* Horizontal rule.\n",
      "metadata": {}
    },
    {
      "cell_type": "code",
      "source": "",
      "metadata": {},
      "execution_count": null,
      "outputs": []
    }
  ]
}