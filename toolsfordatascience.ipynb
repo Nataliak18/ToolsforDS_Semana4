{
  "cells": [
    {
      "cell_type": "markdown",
      "metadata": {},
      "source": [
        "# My Jupyter Notebook on IBM Watson Studio"
      ]
    },
    {
      "attachments": {},
      "cell_type": "markdown",
      "metadata": {},
      "source": [
        "**Natalia Kappes**\nBiomedical Engineer"
      ]
    },
    {
      "cell_type": "markdown",
      "metadata": {},
      "source": [
        "*I am interested in data science because I find it incredible how companies and organizations can grow from data analysis, whether it is to predict opportunities or solve problems.*"
      ]
    },
    {
      "cell_type": "markdown",
      "metadata": {},
      "source": [
        "### Prints the result of the sum 1 + 1"
      ]
    },
    {
      "cell_type": "code",
      "execution_count": 1,
      "metadata": {
        "trusted": true
      },
      "outputs": [
        {
          "name": "stdout",
          "output_type": "stream",
          "text": [
            "2\n"
          ]
        }
      ],
      "source": [
        "a = 1 + 1\n",
        "print (a)"
      ]
    },
    {
      "cell_type": "markdown",
      "metadata": {},
      "source": [
        "~~1 + 1 = 3~~\n",
        "The above sum is wrong.\n",
        "The correct sum is 1 + 1 = 2.\n",
        "\n",
        "***\n",
        "\n",
        "In this cell i made:\n",
        "* Strikethrough.\n",
        "* Bulleted list\n",
        "* Horizontal rule.\n"
      ]
    },
    {
      "cell_type": "code",
      "execution_count": null,
      "metadata": {},
      "outputs": [],
      "source": []
    }
  ],
  "metadata": {
    "kernelspec": {
      "display_name": "Python (Pyodide)",
      "language": "python",
      "name": "python"
    },
    "language_info": {
      "codemirror_mode": {
        "name": "python",
        "version": 3
      },
      "file_extension": ".py",
      "mimetype": "text/x-python",
      "name": "python",
      "nbconvert_exporter": "python",
      "pygments_lexer": "ipython3",
      "version": "3.8"
    }
  },
  "nbformat": 4,
  "nbformat_minor": 4
}
